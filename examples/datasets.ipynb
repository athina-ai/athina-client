{
 "cells": [
  {
   "cell_type": "code",
   "execution_count": 1,
   "metadata": {},
   "outputs": [
    {
     "name": "stderr",
     "output_type": "stream",
     "text": [
      "/Users/akshat_g/athina/repos/athina-client/.venv/lib/python3.9/site-packages/urllib3/__init__.py:35: NotOpenSSLWarning: urllib3 v2 only supports OpenSSL 1.1.1+, currently the 'ssl' module is compiled with 'LibreSSL 2.8.3'. See: https://github.com/urllib3/urllib3/issues/3020\n",
      "  warnings.warn(\n"
     ]
    }
   ],
   "source": [
    "import os\n",
    "from athina_client.datasets import Dataset\n",
    "from athina_client.keys import AthinaApiKey\n",
    "api_key = os.getenv('ATHINA_API_KEY')\n",
    "if not api_key:\n",
    "    raise ValueError(\"ATHINA_API_KEY environment variable is not set.\")\n",
    "AthinaApiKey.set_key(api_key)"
   ]
  },
  {
   "cell_type": "code",
   "execution_count": 3,
   "metadata": {},
   "outputs": [],
   "source": [
    "try:\n",
    "    dataset = Dataset.create(\n",
    "        name='test_dataset_101',\n",
    "        description='This is a test dataset',\n",
    "        language_model_id='gpt-4o',\n",
    "        rows=[\n",
    "            {\n",
    "                'query': 'What is the capital of Greece?',\n",
    "                'context': ['Greece is a country in southeastern Europe.', 'Athens is the capital of Greece.'],\n",
    "                'response': 'Athens',\n",
    "                'expected_response': 'Athens'\n",
    "            }\n",
    "        ]\n",
    "    )\n",
    "    id = dataset.id\n",
    "except Exception as e:\n",
    "    print(f\"Failed to create dataset: {e}\")"
   ]
  },
  {
   "cell_type": "code",
   "execution_count": 4,
   "metadata": {},
   "outputs": [],
   "source": [
    "try:\n",
    "    Dataset.add_rows(\n",
    "        dataset_id=dataset.id,\n",
    "        rows=[\n",
    "            {\n",
    "                'query': 'What is the capital of France?',\n",
    "                'context': ['France is a country in Western Europe.', 'Paris is the capital of France.'],\n",
    "                'response': 'Paris',\n",
    "                'expected_response': 'Paris'\n",
    "            },\n",
    "        ]\n",
    "    )\n",
    "except Exception as e:\n",
    "    print(f\"Failed to add rows more than 5000: {e}\")"
   ]
  },
  {
   "cell_type": "code",
   "execution_count": 5,
   "metadata": {},
   "outputs": [
    {
     "name": "stdout",
     "output_type": "stream",
     "text": [
      "[Dataset(id='1db30834-1ddd-49ce-bab4-31e8fb7b2485', source='dev_sdk', name='Dataset_20240505115148203997', description=None, language_model_id=None, prompt_template=None, rows=[]), Dataset(id='e24659d7-5331-4b76-9fb8-ecd11350ed05', source='dev_sdk', name='Dataset_20240505154834646977', description=None, language_model_id=None, prompt_template=None, rows=[]), Dataset(id='9b62faff-7e79-4fa2-90b1-5832dafe5c52', source='dev_sdk', name='Dataset_20240505185544069428', description=None, language_model_id=None, prompt_template=None, rows=[]), Dataset(id='1c614823-d6cf-4866-9da4-5ebf1118b399', source='dev_sdk', name='Dataset_20240505190217520070', description=None, language_model_id=None, prompt_template=None, rows=[]), Dataset(id='30beeb96-d241-4e2b-a36b-a299bca14f7e', source='dev_sdk', name='Dataset_20240505190330588005', description=None, language_model_id=None, prompt_template=None, rows=[]), Dataset(id='933196fa-5a6b-40a8-acf8-c8fa5abe12a5', source='dev_sdk', name='Dataset_20240505190453944390', description=None, language_model_id=None, prompt_template=None, rows=[]), Dataset(id='dd001395-267a-403a-a5d6-ff19530e42b9', source='dev_sdk', name='Dataset_20240505191020129154', description=None, language_model_id=None, prompt_template=None, rows=[]), Dataset(id='66c80feb-1a58-468f-bcc3-6f189f9a6158', source='ui_dashboard', name='Demo Dataset 1 - claude-2 - 2024-04-29T12:41:45Z', description=None, language_model_id='claude-2', prompt_template=[{'role': 'system', 'content': 'You are the AI to answer query'}, {'role': 'user', 'content': 'Here is the context {context}, and here is the query: {query}'}], rows=[]), Dataset(id='46a98489-8df1-4847-8271-d04dce1d41a4', source='ui_dashboard', name='Demo Dataset 1 - claude-2 - 2024-05-11T13:51:19Z', description=None, language_model_id='claude-2', prompt_template=[{'role': 'system', 'content': 'You are the AI to answer query'}, {'role': 'user', 'content': 'Here is the context {context}, and here is the query: {query}'}], rows=[]), Dataset(id='b0c9c368-eb12-4175-ad44-f43aa8228bd4', source='ui_dashboard', name='Demo Dataset 1 - command - 2024-04-25T09:07:54Z', description=None, language_model_id='command', prompt_template=[{'role': 'system', 'content': 'You are the AI to answer query'}, {'role': 'user', 'content': 'Here is the context {context}, and here is the query: {query}'}], rows=[]), Dataset(id='7c512a7c-dee2-4df9-afe8-cc1a5d970e1d', source='ui_dashboard', name='Demo Dataset 1 - gpt-3.5-turbo - 2024-04-19T02:41:53Z', description=None, language_model_id='gpt-3.5-turbo', prompt_template=[{'role': 'system', 'content': 'You are the AI to answer query'}, {'role': 'user', 'content': 'Here is the context {context}, and here is the query: {query}'}], rows=[]), Dataset(id='6047d5df-788e-4acf-894a-6b92b96648db', source='ui_dashboard', name='Demo Dataset 1 - gpt-3.5-turbo - 2024-04-22T11:58:46Z', description=None, language_model_id='gpt-3.5-turbo', prompt_template=[{'role': 'system', 'content': 'You are the AI to answer query'}, {'role': 'user', 'content': 'Here is the context {context}, and here is the query: {query}'}], rows=[]), Dataset(id='9b512eff-6a76-4e9e-a4c1-b5e8304b78b5', source='ui_dashboard', name='Demo Dataset 1 - gpt-3.5-turbo - 2024-04-22T13:37:20Z', description=None, language_model_id='gpt-3.5-turbo', prompt_template=[{'role': 'system', 'content': 'You are the AI to answer query'}, {'role': 'user', 'content': 'Here is the context {context}, and here is the query: {query}'}], rows=[]), Dataset(id='ca95259e-f3cc-4616-81ae-0c1b7a49e753', source='ui_dashboard', name='Demo Dataset 1 - gpt-3.5-turbo - 2024-04-22T13:38:01Z', description=None, language_model_id='gpt-3.5-turbo', prompt_template=[{'role': 'system', 'content': 'You are the AI to answer query'}, {'role': 'user', 'content': 'Here is the context {context}, and here is the query: {query}'}], rows=[]), Dataset(id='d0adac31-293a-48f2-91a6-c25ea6b0a136', source='ui_dashboard', name='Demo Dataset 1 - gpt-3.5-turbo - 2024-04-24T16:53:45Z', description=None, language_model_id='gpt-3.5-turbo', prompt_template=[{'role': 'system', 'content': 'You are the AI to answer query'}, {'role': 'user', 'content': 'Here is the context {context}, and here is the query: {query}'}], rows=[]), Dataset(id='96704e0c-4004-4e4c-9326-cbf4f8fb4654', source='ui_dashboard', name='Demo Dataset 1 - gpt-3.5-turbo - 2024-04-24T16:54:36Z', description=None, language_model_id='gpt-3.5-turbo', prompt_template=[{'role': 'system', 'content': 'You are the AI to answer query'}, {'role': 'user', 'content': 'Here is the context {context}, and here is the query: {query}'}], rows=[]), Dataset(id='a4307de8-55c2-4e70-891f-93eca7b059c6', source='ui_dashboard', name='Demo Dataset 1 - gpt-3.5-turbo - 2024-04-25T06:31:37Z', description=None, language_model_id='gpt-3.5-turbo', prompt_template=[{'role': 'system', 'content': 'You are the AI to answer query'}, {'role': 'user', 'content': 'Here is the context {context}, and here is the query: {query}'}], rows=[]), Dataset(id='a9ec08b6-b3a5-4a4b-a8a9-bef291be4eed', source='ui_dashboard', name='Demo Dataset 1 - gpt-3.5-turbo - 2024-04-25T07:23:25Z', description=None, language_model_id='gpt-3.5-turbo', prompt_template=[{'role': 'system', 'content': 'You are the AI to answer query'}, {'role': 'user', 'content': 'Here is the context {context}, and here is the query: {query}'}], rows=[]), Dataset(id='f094b7c2-de48-409d-bf86-b4ffd3716d75', source='api', name='Demo Dataset 10', description='This is a sample demo dataset', language_model_id=None, prompt_template=None, rows=[]), Dataset(id='1e6d352e-b67e-4bb5-b222-e0ea953e8c05', source='api', name='Demo Dataset 12', description='This is a sample demo dataset', language_model_id=None, prompt_template=None, rows=[]), Dataset(id='77af088e-75c5-4534-a172-03957af2724f', source='ui_dashboard', name='Demo Dataset_1', description='This is a sample demo dataset', language_model_id=None, prompt_template=None, rows=[]), Dataset(id='3b62f093-09e2-41fc-ba21-e26f9640241b', source='ui_dashboard', name='Demo Dataset_13', description='This is a sample demo dataset', language_model_id=None, prompt_template=None, rows=[]), Dataset(id='c3c09a2e-72b6-4e84-80b1-93939b976bc0', source='ui_dashboard', name='Demo Dataset_14', description='This is a sample demo dataset', language_model_id=None, prompt_template=None, rows=[]), Dataset(id='454e9894-926f-47f9-ba92-2ad2f194d176', source='ui_dashboard', name='Demo Dataset_15', description='This is a sample demo dataset', language_model_id=None, prompt_template=None, rows=[]), Dataset(id='6fb3b876-11ca-4291-8969-b7960e1b1710', source='dev_sdk', name='test_dataset', description='This is a test dataset', language_model_id='gpt-4o', prompt_template=None, rows=[]), Dataset(id='2e720245-3788-4ece-a886-65f369bb9b9a', source='dev_sdk', name='test_dataset_101', description='This is a test dataset', language_model_id='gpt-4o', prompt_template=None, rows=[]), Dataset(id='92116d37-11fe-48ba-a543-f823a6cf5979', source='dev_sdk', name='Dataset-2024-05-12-11-31-16', description=None, language_model_id=None, prompt_template=None, rows=[]), Dataset(id='48025c91-bd42-4cc6-83e9-fdd3c8dfe55a', source='dev_sdk', name='Dataset-2024-05-12-11-33-14', description=None, language_model_id=None, prompt_template=None, rows=[]), Dataset(id='f0eec66c-a147-4c7d-9758-0eaa147480bc', source='dev_sdk', name='Dataset-2024-05-12-11-34-49', description=None, language_model_id=None, prompt_template=None, rows=[]), Dataset(id='febbc71b-ff89-4d16-92e7-07c48bce660d', source='dev_sdk', name='Dataset-2024-05-30-02-04-49', description=None, language_model_id=None, prompt_template=None, rows=[]), Dataset(id='e65d095e-ae88-418b-9a91-05aef90f3316', source='prompt_run', name='Demo Akhil', description='Test Akhil', language_model_id=None, prompt_template=None, rows=[]), Dataset(id='b02e2c6b-9de5-43e1-836c-bb9fbbb27f0f', source='ui_dashboard', name='Demo Dataset', description='This is a sample demo dataset', language_model_id=None, prompt_template=None, rows=[]), Dataset(id='9c19e82b-7ca9-44f8-884c-a646a594266a', source='ui_dashboard', name='Demo Dataset_10', description='This is a sample demo dataset', language_model_id=None, prompt_template=None, rows=[]), Dataset(id='4abae456-f17e-4c61-98fc-026385f2b9a5', source='ui_dashboard', name='Demo Dataset_11', description='This is a sample demo dataset', language_model_id=None, prompt_template=None, rows=[]), Dataset(id='e90c88ca-dcfe-4887-9b6a-f38433e123ff', source='ui_dashboard', name='Demo Dataset_12', description='This is a sample demo dataset', language_model_id=None, prompt_template=None, rows=[]), Dataset(id='3673014a-bc00-419d-b4c2-c31b01446256', source='ui_dashboard', name='Demo Dataset_2', description='This is a sample demo dataset', language_model_id=None, prompt_template=None, rows=[]), Dataset(id='964140a6-997f-4475-bb18-6182315432a4', source='ui_dashboard', name='Demo Dataset_3', description='This is a sample demo dataset', language_model_id=None, prompt_template=None, rows=[]), Dataset(id='1f026a07-cda6-49a3-8d71-16ac04a4fdac', source='ui_dashboard', name='Demo Dataset_4', description='This is a sample demo dataset', language_model_id=None, prompt_template=None, rows=[]), Dataset(id='bbf641c6-cce7-404c-bbf4-6827755dbf4f', source='ui_dashboard', name='Demo Dataset_5', description='This is a sample demo dataset', language_model_id=None, prompt_template=None, rows=[]), Dataset(id='f37510a7-e68c-4023-afb1-e0717f4950b2', source='ui_dashboard', name='Demo Dataset_6', description='This is a sample demo dataset', language_model_id=None, prompt_template=None, rows=[]), Dataset(id='c3be5e64-14f1-46be-a450-af3ab3324c42', source='ui_dashboard', name='Demo Dataset_7', description='This is a sample demo dataset', language_model_id=None, prompt_template=None, rows=[]), Dataset(id='b1a1cbc1-1886-4fe7-8c92-c5095563493a', source='ui_dashboard', name='Demo Dataset_8', description='This is a sample demo dataset', language_model_id=None, prompt_template=None, rows=[]), Dataset(id='fd29043b-3271-498d-966f-4eb4806d2c54', source='ui_dashboard', name='Demo Dataset_9', description='This is a sample demo dataset', language_model_id=None, prompt_template=None, rows=[]), Dataset(id='cfd345f8-3b78-48f2-97a5-8fc4b878868d', source='dev_sdk', name='Dataset_20240505191126537660', description=None, language_model_id=None, prompt_template=None, rows=[]), Dataset(id='b8f17a38-015f-4105-9040-3a5b17dac94c', source='ui_dashboard', name='Demo Dataset - athina-gpt-35-turbo-prod - 2024-06-05T19:07:18Z', description=None, language_model_id='athina-gpt-35-turbo-prod', prompt_template=[{'role': 'system', 'content': 'answer {query}'}], rows=[]), Dataset(id='9dbe3db0-0a3c-4967-a37f-cdc04254aeb6', source='ui_dashboard', name='Demo Dataset - athina-gpt-35-turbo-prod - 2024-06-05T19:09:19Z', description=None, language_model_id='athina-gpt-35-turbo-prod', prompt_template=[{'role': 'system', 'content': 'answer {query}'}], rows=[]), Dataset(id='5583b2fd-8940-4a8a-bcf4-e83da95b25a5', source='api', name='Demo Dataset 1', description='This is a sample demo dataset', language_model_id=None, prompt_template=None, rows=[]), Dataset(id='2b925fee-c8a8-4d02-bc1a-be870d3a39dd', source='ui_dashboard', name='Demo Dataset 1 - claude-2 - 2024-04-25T09:25:31Z', description=None, language_model_id='claude-2', prompt_template=[{'role': 'system', 'content': 'You are the AI to answer query'}, {'role': 'user', 'content': 'Here is the context {context}, and here is the query: {query}'}], rows=[]), Dataset(id='e6e40d33-305a-4d67-84d1-784b25da9e77', source='ui_dashboard', name='Demo Dataset 1 - claude-2 - 2024-04-25T10:46:38Z', description=None, language_model_id='claude-2', prompt_template=[{'role': 'system', 'content': 'You are the AI to answer query'}, {'role': 'user', 'content': 'Here is the context {context}, and here is the query: {query}'}], rows=[]), Dataset(id='68d9781c-b03f-4f56-8033-2af350a4e077', source='ui_dashboard', name='Demo Dataset 10 - claude-2 - 2024-05-11T14:09:35Z', description=None, language_model_id='claude-2', prompt_template=[{'role': 'system', 'content': 'You are the AI to answer query'}, {'role': 'user', 'content': 'Here is the context {context}, and here is the query: {query}'}], rows=[]), Dataset(id='2789ebde-a710-4b94-8de3-7f44446946ab', source='api', name='Demo Dataset 11', description='This is a sample demo dataset', language_model_id=None, prompt_template=None, rows=[]), Dataset(id='cb6dc15a-8d24-4c88-bbd2-5e464c558e11', source='api', name='Demo Dataset 11_1', description='This is a sample demo dataset', language_model_id=None, prompt_template=None, rows=[]), Dataset(id='0ed971ae-0446-44d6-8b58-d92c475a7ce2', source='api', name='Demo Dataset 11_2', description='This is a sample demo dataset', language_model_id=None, prompt_template=None, rows=[]), Dataset(id='67f9f0f1-632f-461e-9909-4d3f2b649a90', source='api', name='Demo Dataset 11_3', description='This is a sample demo dataset', language_model_id=None, prompt_template=None, rows=[]), Dataset(id='b1478cab-f801-46e8-a9c1-fbe00f36ebb2', source='api', name='Demo Dataset 12_1', description='This is a sample demo dataset', language_model_id=None, prompt_template=None, rows=[]), Dataset(id='dfcfdc57-468d-4b6c-87f2-760d118ce819', source='prompt_run', name='test', description='Akhil', language_model_id=None, prompt_template=None, rows=[]), Dataset(id='18668601-b614-4793-89bf-8ad3407f2c50', source='prompt_run', name='test_1', description='Akhil', language_model_id=None, prompt_template=None, rows=[]), Dataset(id='5041725e-a26a-456c-92cc-c4aff922890f', source='prompt_run', name='test_2', description='Akhil', language_model_id=None, prompt_template=None, rows=[]), Dataset(id='1b58b80f-a552-4fdf-a5ee-247c77983f5c', source='dev_sdk', name='test_dataset_100', description='This is a test dataset', language_model_id='gpt-4o', prompt_template=None, rows=[]), Dataset(id='1b1938d9-f019-45a5-8d3e-5bb72a81ee36', source='dev_sdk', name='test_dataset_123', description='This is a test dataset', language_model_id='gpt-4', prompt_template=None, rows=[]), Dataset(id='178e0d41-0119-4ad2-92bc-59d587f6d1a3', source='dev_sdk', name='test_dataset_15', description='This is a test dataset', language_model_id='gpt-4', prompt_template=None, rows=[]), Dataset(id='63d1849b-5720-43cc-a17d-a89f44fdd8a9', source='dev_sdk', name='test_dataset_15_1', description='This is a test dataset', language_model_id='gpt-4', prompt_template=None, rows=[])]\n"
     ]
    }
   ],
   "source": [
    "try:\n",
    "    datasets = Dataset.list_datasets()\n",
    "    print(datasets)\n",
    "except Exception as e:\n",
    "    print(f\"Failed to list datasets: {e}\")"
   ]
  },
  {
   "cell_type": "code",
   "execution_count": 8,
   "metadata": {},
   "outputs": [
    {
     "name": "stdout",
     "output_type": "stream",
     "text": [
      "Failed to get dataset: Dataset with ID '1db30834-1ddd-49ce-bab4-31e8fb7b2485' not found. (Extra Info: No Details)\n"
     ]
    }
   ],
   "source": [
    "try:\n",
    "    response = Dataset.delete_dataset_by_id(dataset_id=\"1db30834-1ddd-49ce-bab4-31e8fb7b2485\")\n",
    "    print(response)\n",
    "except Exception as e:\n",
    "    print(f\"Failed to get dataset: {e}\")"
   ]
  },
  {
   "cell_type": "code",
   "execution_count": 9,
   "metadata": {},
   "outputs": [
    {
     "name": "stdout",
     "output_type": "stream",
     "text": [
      "Failed to get dataset: Dataset with ID 24a3113c-fb09-4b34-876f-9da6381af2f8 not found (Extra Info: No Details)\n"
     ]
    }
   ],
   "source": [
    "try:\n",
    "    response = Dataset.get_dataset_by_id(dataset_id=\"24a3113c-fb09-4b34-876f-9da6381af2f8\")\n",
    "    print(response)\n",
    "except Exception as e:\n",
    "    print(f\"Failed to get dataset: {e}\")"
   ]
  },
  {
   "cell_type": "code",
   "execution_count": 10,
   "metadata": {},
   "outputs": [
    {
     "name": "stdout",
     "output_type": "stream",
     "text": [
      "{'dataset': {'id': '6fb3b876-11ca-4291-8969-b7960e1b1710', 'source': 'dev_sdk', 'user_id': '91cfffe9-03f1-4d50-acee-07c4115de42f', 'org_id': 'athina_demo', 'workspace_slug': 'default', 'name': 'test_dataset', 'description': 'This is a test dataset', 'language_model_id': 'gpt-4o', 'prompt_template': None, 'reference_dataset_id': None, 'created_at': '2024-06-07T13:14:50.843Z', 'updated_at': '2024-06-07T13:14:50.843Z', 'reference_dataset': None, 'derived_datasets': [], 'datacolumn': [{'id': '0b066fb0-34c5-4552-a889-902123a76ff9', 'dataset_id': '6fb3b876-11ca-4291-8969-b7960e1b1710', 'name': 'query', 'column_type': 'static', 'data_type': 'string', 'node_config_id': None, 'position': None, 'node_config': None}, {'id': 'f7a5fff1-e9f8-432e-bfbe-475b0f9ad4e1', 'dataset_id': '6fb3b876-11ca-4291-8969-b7960e1b1710', 'name': 'context', 'column_type': 'static', 'data_type': 'array', 'node_config_id': None, 'position': None, 'node_config': None}, {'id': '45d2c8fd-f67e-4f17-8d10-8793b4259c8b', 'dataset_id': '6fb3b876-11ca-4291-8969-b7960e1b1710', 'name': 'response', 'column_type': 'static', 'data_type': 'string', 'node_config_id': None, 'position': None, 'node_config': None}, {'id': '0f2d7581-ae20-4421-8c9d-5c0663bfdc66', 'dataset_id': '6fb3b876-11ca-4291-8969-b7960e1b1710', 'name': 'expected_response', 'column_type': 'static', 'data_type': 'string', 'node_config_id': None, 'position': None, 'node_config': None}]}, 'dataset_rows': [{'id': 'fa682fad-d754-49bc-bb53-c864f55d5594', 'sequence_number': 1, 'dataset_id': '6fb3b876-11ca-4291-8969-b7960e1b1710', 'query': 'What is the capital of Greece?', 'context': ['Greece is a country in southeastern Europe.', 'Athens is the capital of Greece.'], 'response': 'Athens', 'expected_response': 'Athens', 'dataset_eval_results': []}, {'id': '0c66e33e-4800-4e5f-9a31-2a8d38734207', 'sequence_number': 2, 'dataset_id': '6fb3b876-11ca-4291-8969-b7960e1b1710', 'context': ['France is a country in Western Europe.', 'Paris is the capital of France.'], 'response': 'Paris', 'expected_response': 'Paris', 'query': 'What is the capital of France?', 'dataset_eval_results': []}], 'dataset_row_ids': ['fa682fad-d754-49bc-bb53-c864f55d5594', '0c66e33e-4800-4e5f-9a31-2a8d38734207'], 'data_columns': ['query', 'context', 'response', 'expected_response'], 'metric_columns': [], 'development_eval_configs': []}\n"
     ]
    }
   ],
   "source": [
    "try:\n",
    "    response = Dataset.get_dataset_by_name(name=\"test_dataset\")\n",
    "    print(response)\n",
    "except Exception as e:\n",
    "    print(f\"Failed to get dataset: {e}\")"
   ]
  }
 ],
 "metadata": {
  "kernelspec": {
   "display_name": ".venv",
   "language": "python",
   "name": "python3"
  },
  "language_info": {
   "codemirror_mode": {
    "name": "ipython",
    "version": 3
   },
   "file_extension": ".py",
   "mimetype": "text/x-python",
   "name": "python",
   "nbconvert_exporter": "python",
   "pygments_lexer": "ipython3",
   "version": "3.9.6"
  }
 },
 "nbformat": 4,
 "nbformat_minor": 2
}
