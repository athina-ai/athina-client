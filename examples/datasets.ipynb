{
 "cells": [
  {
   "cell_type": "code",
   "execution_count": null,
   "metadata": {},
   "outputs": [],
   "source": [
    "import os\n",
    "from athina_client.datasets import Dataset\n",
    "from athina_client.keys import AthinaApiKey\n",
    "from athina_client.api_base_url import AthinaApiBaseUrl\n",
    "api_key = os.getenv('ATHINA_API_KEY')\n",
    "if not api_key:\n",
    "    raise ValueError(\"ATHINA_API_KEY environment variable is not set.\")\n",
    "AthinaApiKey.set_key(api_key)\n",
    "AthinaApiBaseUrl.set_url(\"https://log.athina.ai\")"
   ]
  },
  {
   "cell_type": "code",
   "execution_count": null,
   "metadata": {},
   "outputs": [],
   "source": [
    "try:\n",
    "    dataset = Dataset.create(\n",
    "        name='test_dataset_2014',\n",
    "        description='This is a test dataset',\n",
    "        language_model_id='gpt-4o',\n",
    "        rows=[\n",
    "            {\n",
    "                'query': 'What is the capital of Greece?',\n",
    "                'context': ['Greece is a country in southeastern Europe.', 'Athens is the capital of Greece.'],\n",
    "                'response': 'Athens',\n",
    "                'expected_response': 'Athens',\n",
    "            }\n",
    "        ]\n",
    "    )\n",
    "    id = dataset.id\n",
    "except Exception as e:\n",
    "    print(f\"Failed to create dataset: {e}\")"
   ]
  },
  {
   "cell_type": "code",
   "execution_count": null,
   "metadata": {},
   "outputs": [],
   "source": [
    "try:\n",
    "    Dataset.add_rows(\n",
    "        dataset_id=dataset.id,\n",
    "        rows=[\n",
    "            {\n",
    "                'query': 'What is the capital of France?',\n",
    "                'context': ['France is a country in Western Europe.', 'Paris is the capital of France.'],\n",
    "                'response': 'Paris',\n",
    "                'expected_response': 'Paris',\n",
    "                '__id': '1'\n",
    "            },\n",
    "        ]\n",
    "    )\n",
    "except Exception as e:\n",
    "    print(f\"Failed to add rows: {e}\")"
   ]
  },
  {
   "cell_type": "code",
   "execution_count": null,
   "metadata": {},
   "outputs": [],
   "source": [
    "try:\n",
    "    datasets = Dataset.list_datasets()\n",
    "    print(datasets)\n",
    "except Exception as e:\n",
    "    print(f\"Failed to list datasets: {e}\")"
   ]
  },
  {
   "cell_type": "code",
   "execution_count": null,
   "metadata": {},
   "outputs": [],
   "source": [
    "try:\n",
    "    response = Dataset.delete_dataset_by_id(dataset_id=\"1db30834-1ddd-49ce-bab4-31e8fb7b2485\")\n",
    "    print(response)\n",
    "except Exception as e:\n",
    "    print(f\"Failed to get dataset: {e}\")"
   ]
  },
  {
   "cell_type": "code",
   "execution_count": null,
   "metadata": {},
   "outputs": [],
   "source": [
    "try:\n",
    "    response = Dataset.get_dataset_by_id(dataset_id=\"5583b2fd-8940-4a8a-bcf4-e83da95b25a5\")\n",
    "    print(response)\n",
    "except Exception as e:\n",
    "    print(f\"Failed to get dataset: {e}\")"
   ]
  },
  {
   "cell_type": "code",
   "execution_count": null,
   "metadata": {},
   "outputs": [],
   "source": [
    "try:\n",
    "    response = Dataset.get_dataset_by_id(dataset_id=\"5583b2fd-8940-4a8a-bcf4-e83da95b25a5\", response_format=\"detailed\")\n",
    "    print(response)\n",
    "except Exception as e:\n",
    "    print(f\"Failed to get dataset: {e}\")"
   ]
  },
  {
   "cell_type": "code",
   "execution_count": null,
   "metadata": {},
   "outputs": [],
   "source": [
    "try:\n",
    "    response = Dataset.get_dataset_by_name(name=\"gpt-3.5-turbo with sample Q&A - athina-gpt-35-turbo-prod - 2024-06-06T06:57:10Z\")\n",
    "    print(response)\n",
    "except Exception as e:\n",
    "    print(f\"Failed to get dataset: {e}\")"
   ]
  }
 ],
 "metadata": {
  "kernelspec": {
   "display_name": ".venv",
   "language": "python",
   "name": "python3"
  },
  "language_info": {
   "codemirror_mode": {
    "name": "ipython",
    "version": 3
   },
   "file_extension": ".py",
   "mimetype": "text/x-python",
   "name": "python",
   "nbconvert_exporter": "python",
   "pygments_lexer": "ipython3",
   "version": "3.9.6"
  }
 },
 "nbformat": 4,
 "nbformat_minor": 2
}
