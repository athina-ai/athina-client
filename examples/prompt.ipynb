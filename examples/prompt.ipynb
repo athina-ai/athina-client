{
 "cells": [
  {
   "cell_type": "code",
   "execution_count": null,
   "metadata": {},
   "outputs": [],
   "source": [
    "import os\n",
    "from athina_client.prompt import Prompt, Slug\n",
    "from athina_client.keys import AthinaApiKey\n",
    "from athina_client.api_base_url import AthinaApiBaseUrl\n",
    "api_key = os.getenv('ATHINA_API_KEY')\n",
    "if not api_key:\n",
    "    raise ValueError(\"ATHINA_API_KEY environment variable is not set.\")\n",
    "AthinaApiKey.set_key(api_key)\n",
    "AthinaApiBaseUrl.set_url(\"http://localhost:9000\")"
   ]
  },
  {
   "cell_type": "code",
   "execution_count": null,
   "metadata": {},
   "outputs": [],
   "source": [
    "slugs = Slug.list()\n",
    "print(\"Available slugs:\", slugs)"
   ]
  },
  {
   "cell_type": "code",
   "execution_count": null,
   "metadata": {},
   "outputs": [],
   "source": [
    "response = Slug.delete(slug=\"test-slug\")\n",
    "print(response)"
   ]
  },
  {
   "cell_type": "code",
   "execution_count": null,
   "metadata": {},
   "outputs": [],
   "source": [
    "duplicated_slug = Slug.duplicate(slug=\"test-slug\", name=\"test-slug-1\")\n",
    "print(duplicated_slug)"
   ]
  },
  {
   "cell_type": "code",
   "execution_count": null,
   "metadata": {},
   "outputs": [],
   "source": [
    "prompt = Prompt.get_default('test-staging')\n",
    "print(\"Prompt:\", prompt)    "
   ]
  },
  {
   "cell_type": "code",
   "execution_count": null,
   "metadata": {},
   "outputs": [],
   "source": [
    "prompt = Prompt.create(\n",
    "    slug='test-staging',\n",
    "    prompt=[{\n",
    "        \"role\": \"system\",\n",
    "        \"content\": \"You are an AI that answers questions in less than 50 words\"\n",
    "    },\n",
    "    {\n",
    "        \"role\": \"user\",\n",
    "        \"content\": \"what does {{company}} does?\"\n",
    "    }],\n",
    "    model=\"athina-gpt-35-turbo-prod\",\n",
    "    provider=\"azure\",\n",
    "    commit_message=\"Staging default prompt\",\n",
    "    parameters={\n",
    "        \"temperature\": 0.5\n",
    "        }\n",
    ")\n",
    "\n",
    "print(\"Prompt created:\", prompt)"
   ]
  },
  {
   "cell_type": "code",
   "execution_count": null,
   "metadata": {},
   "outputs": [],
   "source": [
    "prompt_execution = Prompt.run(\n",
    "    slug='test-staging',\n",
    "    variables={\n",
    "        \"company\": \"nvidia\"\n",
    "    },\n",
    "    parameters={\n",
    "        \"temperature\": 1,\n",
    "        \"max_tokens\": 1000\n",
    "    },\n",
    ")\n",
    "print(\"Prompt execution:\", prompt_execution)"
   ]
  }
 ],
 "metadata": {
  "kernelspec": {
   "display_name": ".venv",
   "language": "python",
   "name": "python3"
  },
  "language_info": {
   "codemirror_mode": {
    "name": "ipython",
    "version": 3
   },
   "file_extension": ".py",
   "mimetype": "text/x-python",
   "name": "python",
   "nbconvert_exporter": "python",
   "pygments_lexer": "ipython3",
   "version": "3.9.6"
  }
 },
 "nbformat": 4,
 "nbformat_minor": 2
}
